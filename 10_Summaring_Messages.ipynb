{
  "nbformat": 4,
  "nbformat_minor": 0,
  "metadata": {
    "colab": {
      "private_outputs": true,
      "provenance": [],
      "authorship_tag": "ABX9TyOo7P9nym9UEzaGGE99Odav",
      "include_colab_link": true
    },
    "kernelspec": {
      "name": "python3",
      "display_name": "Python 3"
    },
    "language_info": {
      "name": "python"
    }
  },
  "cells": [
    {
      "cell_type": "markdown",
      "metadata": {
        "id": "view-in-github",
        "colab_type": "text"
      },
      "source": [
        "<a href=\"https://colab.research.google.com/github/ARJUN108-verma/LangGraph/blob/main/10_Summaring_Messages.ipynb\" target=\"_parent\"><img src=\"https://colab.research.google.com/assets/colab-badge.svg\" alt=\"Open In Colab\"/></a>"
      ]
    },
    {
      "cell_type": "markdown",
      "source": [
        "#Summarizing Messages:-"
      ],
      "metadata": {
        "id": "W4b6r8P4wiWj"
      }
    },
    {
      "cell_type": "markdown",
      "source": [
        "Set the OpenAI API Key as an Environment Variable"
      ],
      "metadata": {
        "id": "ucsmoX8gwvjL"
      }
    },
    {
      "cell_type": "code",
      "source": [
        "!pip install mypy_ipython"
      ],
      "metadata": {
        "id": "CaGlUBMuyiqC"
      },
      "execution_count": null,
      "outputs": []
    },
    {
      "cell_type": "code",
      "execution_count": null,
      "metadata": {
        "id": "yPnnNE5owZrn"
      },
      "outputs": [],
      "source": [
        "%load_ext dotenv\n",
        "%dotenv\n",
        "%load_ext mypy_ipython"
      ]
    },
    {
      "cell_type": "markdown",
      "source": [
        "Import Relevant Classes and Functions"
      ],
      "metadata": {
        "id": "_IXGojvZw4GR"
      }
    },
    {
      "cell_type": "code",
      "source": [
        "!pip install langgraph"
      ],
      "metadata": {
        "id": "rCyYT0U1ywDR"
      },
      "execution_count": null,
      "outputs": []
    },
    {
      "cell_type": "code",
      "source": [
        "!pip install langchain_openai"
      ],
      "metadata": {
        "id": "HohTE1hiy5mE"
      },
      "execution_count": null,
      "outputs": []
    },
    {
      "cell_type": "code",
      "source": [
        "from langgraph.graph import StateGraph, START, END, MessagesState\n",
        "from langchain_openai.chat_models import ChatOpenAI\n",
        "from langchain_core.messages import AIMessage, HumanMessage, SystemMessage, RemoveMessage\n",
        "from typing import Literal"
      ],
      "metadata": {
        "id": "C-hQkG03w86U"
      },
      "execution_count": null,
      "outputs": []
    },
    {
      "cell_type": "markdown",
      "source": [
        "Define the State"
      ],
      "metadata": {
        "id": "L1A6LtgrxCQ4"
      }
    },
    {
      "cell_type": "code",
      "source": [
        "class State(MessagesState):\n",
        "    summary: str"
      ],
      "metadata": {
        "id": "2eNi1Av4xB55"
      },
      "execution_count": null,
      "outputs": []
    },
    {
      "cell_type": "code",
      "source": [
        "test_state = State()"
      ],
      "metadata": {
        "id": "WyTvyFDLxKQw"
      },
      "execution_count": null,
      "outputs": []
    },
    {
      "cell_type": "code",
      "source": [
        "test_state[\"summary\"]"
      ],
      "metadata": {
        "id": "07xgk3XBxPBw"
      },
      "execution_count": null,
      "outputs": []
    },
    {
      "cell_type": "code",
      "source": [
        "bool(test_state.get(\"summary\", \"\"))"
      ],
      "metadata": {
        "id": "-nZd3L6pxUtx"
      },
      "execution_count": null,
      "outputs": []
    },
    {
      "cell_type": "markdown",
      "source": [
        "Define the Nodes"
      ],
      "metadata": {
        "id": "AKOv42u7xYMp"
      }
    },
    {
      "cell_type": "code",
      "source": [
        "chat = ChatOpenAI(model = \"gpt-4o\",\n",
        "                  seed = 365,\n",
        "                  temperature = 0,\n",
        "                  max_completion_tokens = 100)"
      ],
      "metadata": {
        "id": "05F8HzUOxdTx"
      },
      "execution_count": null,
      "outputs": []
    },
    {
      "cell_type": "code",
      "source": [
        "def ask_question(state: State) -> State:\n",
        "\n",
        "    print(f\"\\n-------> ENTERING ask_question:\")\n",
        "\n",
        "    question = \"What is your question?\"\n",
        "    print(question)\n",
        "\n",
        "    return State(messages = [AIMessage(question), HumanMessage(input())])"
      ],
      "metadata": {
        "id": "GFx0oNG7xhC9"
      },
      "execution_count": null,
      "outputs": []
    },
    {
      "cell_type": "code",
      "source": [
        "def chatbot(state: State) -> State:\n",
        "\n",
        "    print(f\"\\n-------> ENTERING chatbot:\")\n",
        "    for i in state[\"messages\"]:\n",
        "        i.pretty_print()\n",
        "\n",
        "    system_message = f'''\n",
        "    Here's a quick summary of what's been discussed so far:\n",
        "    {state.get(\"summary\", \"\")}\n",
        "\n",
        "    Keep this in mind as you answer the next question.\n",
        "    '''\n",
        "\n",
        "    response = chat.invoke([SystemMessage(system_message)] + state[\"messages\"])\n",
        "    response.pretty_print()\n",
        "\n",
        "    return State(messages = [response])"
      ],
      "metadata": {
        "id": "ZLBsAHczxk_i"
      },
      "execution_count": null,
      "outputs": []
    },
    {
      "cell_type": "code",
      "source": [
        "def ask_another_question(state: State) -> State:\n",
        "\n",
        "    print(f\"\\n-------> ENTERING ask_another_question:\")\n",
        "\n",
        "    question = \"Would you like to ask one more question (yes/no)?\"\n",
        "    print(question)\n",
        "\n",
        "    return State(messages = [AIMessage(question), HumanMessage(input())])"
      ],
      "metadata": {
        "id": "2SA-RHKBxl_Z"
      },
      "execution_count": null,
      "outputs": []
    },
    {
      "cell_type": "code",
      "source": [
        "def summarize_and_delete_messages(state: State) -> State:\n",
        "    print(f\"\\n-------> ENTERING trim_messages:\")\n",
        "\n",
        "    new_conversation = \"\"\n",
        "    for i in state[\"messages\"]:\n",
        "        new_conversation += f\"{i.type}: {i.content}\\n\\n\"\n",
        "\n",
        "    summary_instructions = f'''\n",
        "Update the ongoing summary by incorporating the new lines of conversation below.\n",
        "Build upon the previous summary rather than repeating it so that the result\n",
        "reflects the most recent context and developments.\n",
        "\n",
        "\n",
        "Previous Summary:\n",
        "{state.get(\"summary\", \"\")}\n",
        "\n",
        "New Conversation:\n",
        "{new_conversation}\n",
        "'''\n",
        "\n",
        "    print(summary_instructions)\n",
        "\n",
        "    summary = chat.invoke([HumanMessage(summary_instructions)])\n",
        "\n",
        "    remove_messages = [RemoveMessage(id = i.id) for i in state[\"messages\"][:]]\n",
        "\n",
        "    return State(messages = remove_messages, summary = summary.content)"
      ],
      "metadata": {
        "id": "xArNwUThxp6r"
      },
      "execution_count": null,
      "outputs": []
    },
    {
      "cell_type": "markdown",
      "source": [
        "Define the Routing Function"
      ],
      "metadata": {
        "id": "1kVhzjglxw8E"
      }
    },
    {
      "cell_type": "code",
      "source": [
        "def routing_function(state: State) -> Literal[\"summarize_and_delete_messages\", \"__end__\"]:\n",
        "\n",
        "    if state[\"messages\"][-1].content == \"yes\":\n",
        "        return \"summarize_and_delete_messages\"\n",
        "    else:\n",
        "        return \"__end__\""
      ],
      "metadata": {
        "id": "Boh_qFChxuYS"
      },
      "execution_count": null,
      "outputs": []
    },
    {
      "cell_type": "markdown",
      "source": [
        "Define the Graph"
      ],
      "metadata": {
        "id": "dbSZUNQzx5Dl"
      }
    },
    {
      "cell_type": "code",
      "source": [
        "graph = StateGraph(State)"
      ],
      "metadata": {
        "id": "TeyGHGXux7f7"
      },
      "execution_count": null,
      "outputs": []
    },
    {
      "cell_type": "code",
      "source": [
        "graph.add_node(\"ask_question\", ask_question)\n",
        "graph.add_node(\"chatbot\", chatbot)\n",
        "graph.add_node(\"ask_another_question\", ask_another_question)\n",
        "graph.add_node(\"summarize_and_delete_messages\", summarize_and_delete_messages)\n",
        "\n",
        "graph.add_edge(START, \"ask_question\")\n",
        "graph.add_edge(\"ask_question\", \"chatbot\")\n",
        "graph.add_edge(\"chatbot\", \"ask_another_question\")\n",
        "graph.add_conditional_edges(source = \"ask_another_question\",\n",
        "                            path = routing_function)\n",
        "graph.add_edge(\"summarize_and_delete_messages\", \"ask_question\")"
      ],
      "metadata": {
        "id": "lOmXRFIoyB0r"
      },
      "execution_count": null,
      "outputs": []
    },
    {
      "cell_type": "code",
      "source": [
        "graph_compiled = graph.compile()"
      ],
      "metadata": {
        "id": "p3xCrUunyFYJ"
      },
      "execution_count": null,
      "outputs": []
    },
    {
      "cell_type": "code",
      "source": [
        "graph_compiled"
      ],
      "metadata": {
        "id": "v3N9VfLdyIZZ"
      },
      "execution_count": null,
      "outputs": []
    },
    {
      "cell_type": "markdown",
      "source": [
        "Test the Graph"
      ],
      "metadata": {
        "id": "u5hRij0EyLGB"
      }
    },
    {
      "cell_type": "code",
      "source": [
        "graph_compiled.invoke(State(messages = []))"
      ],
      "metadata": {
        "id": "144pLYD2yObq"
      },
      "execution_count": null,
      "outputs": []
    }
  ]
}