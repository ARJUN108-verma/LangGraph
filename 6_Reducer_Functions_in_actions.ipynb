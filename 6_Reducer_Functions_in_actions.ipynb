{
  "nbformat": 4,
  "nbformat_minor": 0,
  "metadata": {
    "colab": {
      "private_outputs": true,
      "provenance": [],
      "authorship_tag": "ABX9TyPNabp2Hw36natjZ4QQGhWV",
      "include_colab_link": true
    },
    "kernelspec": {
      "name": "python3",
      "display_name": "Python 3"
    },
    "language_info": {
      "name": "python"
    }
  },
  "cells": [
    {
      "cell_type": "markdown",
      "metadata": {
        "id": "view-in-github",
        "colab_type": "text"
      },
      "source": [
        "<a href=\"https://colab.research.google.com/github/ARJUN108-verma/LangGraph/blob/main/6_Reducer_Functions_in_actions.ipynb\" target=\"_parent\"><img src=\"https://colab.research.google.com/assets/colab-badge.svg\" alt=\"Open In Colab\"/></a>"
      ]
    },
    {
      "cell_type": "markdown",
      "source": [
        "Reducer Functions in actions:-"
      ],
      "metadata": {
        "id": "DshoLVH_-Quj"
      }
    },
    {
      "cell_type": "markdown",
      "source": [
        "### Set the OpenAI API Key as an Environment Variable"
      ],
      "metadata": {
        "id": "Zllwou46-ZwA"
      }
    },
    {
      "cell_type": "code",
      "source": [
        "!pip install mypy_ipython"
      ],
      "metadata": {
        "id": "FpwY8rYq_44t"
      },
      "execution_count": null,
      "outputs": []
    },
    {
      "cell_type": "code",
      "source": [
        "%load_ext dotenv\n",
        "%dotenv\n",
        "%load_ext mypy_ipython"
      ],
      "metadata": {
        "id": "howmf-_r-amY"
      },
      "execution_count": null,
      "outputs": []
    },
    {
      "cell_type": "markdown",
      "source": [
        "### Import Relevant Classes and Functions:-"
      ],
      "metadata": {
        "id": "P8bADDcT-k5K"
      }
    },
    {
      "cell_type": "code",
      "execution_count": null,
      "metadata": {
        "id": "XeQjWxq3-AnV"
      },
      "outputs": [],
      "source": [
        "from langgraph.graph import START, END, StateGraph, add_messages\n",
        "from typing_extensions import TypedDict\n",
        "from langchain_openai.chat_models import ChatOpenAI\n",
        "from langchain_core.messages import AIMessage, HumanMessage, BaseMessage\n",
        "from collections.abc import Sequence\n",
        "from typing import Literal, Annotated"
      ]
    },
    {
      "cell_type": "markdown",
      "source": [
        "### Get Familiar with the add_messages Function:-"
      ],
      "metadata": {
        "id": "N-SyuHRx-t1R"
      }
    },
    {
      "cell_type": "code",
      "source": [
        "my_list = add_messages([HumanMessage(\"Hi! I'm Oscar.\"),\n",
        "                        AIMessage(\"Hey, Oscar. How can I assist you?\")],\n",
        "                       [HumanMessage(\"Could you summarize today's news?\")])"
      ],
      "metadata": {
        "id": "OzrqqR4C-vmC"
      },
      "execution_count": null,
      "outputs": []
    },
    {
      "cell_type": "code",
      "source": [
        "my_list"
      ],
      "metadata": {
        "id": "wJyJDKtS-4ER"
      },
      "execution_count": null,
      "outputs": []
    },
    {
      "cell_type": "markdown",
      "source": [
        "### Define the State:-"
      ],
      "metadata": {
        "id": "KAyVoLnd-0hZ"
      }
    },
    {
      "cell_type": "code",
      "source": [
        "class State(TypedDict):\n",
        "    messages: Annotated[Sequence[BaseMessage], add_messages]"
      ],
      "metadata": {
        "id": "ddonztZ0-6HR"
      },
      "execution_count": null,
      "outputs": []
    },
    {
      "cell_type": "markdown",
      "source": [
        "### Define the Nodes"
      ],
      "metadata": {
        "id": "3n6P_r90-9MB"
      }
    },
    {
      "cell_type": "code",
      "source": [
        "chat = ChatOpenAI(model = \"gpt-4o\",\n",
        "                  seed = 365,\n",
        "                  temperature = 0,\n",
        "                  max_completion_tokens = 100)"
      ],
      "metadata": {
        "id": "cc9t84Oy-_ug"
      },
      "execution_count": null,
      "outputs": []
    },
    {
      "cell_type": "code",
      "source": [
        "def ask_question(state: State) -> State:\n",
        "\n",
        "    print(f\"\\n-------> ENTERING ask_question:\")\n",
        "    for i in state[\"messages\"]:\n",
        "        i.pretty_print()\n",
        "\n",
        "    question = \"What is your question?\"\n",
        "    print(question)\n",
        "\n",
        "    return State(messages = [AIMessage(question), HumanMessage(input())])"
      ],
      "metadata": {
        "id": "VDhUdrWs_C_L"
      },
      "execution_count": null,
      "outputs": []
    },
    {
      "cell_type": "code",
      "source": [
        "def chatbot(state: State) -> State:\n",
        "\n",
        "    print(f\"\\n-------> ENTERING chatbot:\")\n",
        "    for i in state[\"messages\"]:\n",
        "        i.pretty_print()\n",
        "\n",
        "    response = chat.invoke(state[\"messages\"])\n",
        "    response.pretty_print()\n",
        "\n",
        "    return State(messages = [response])"
      ],
      "metadata": {
        "id": "qTLkIsyQ_NaK"
      },
      "execution_count": null,
      "outputs": []
    },
    {
      "cell_type": "code",
      "source": [
        "def ask_another_question(state: State) -> State:\n",
        "\n",
        "    print(f\"\\n-------> ENTERING ask_another_question:\")\n",
        "    for i in state[\"messages\"]:\n",
        "        i.pretty_print()\n",
        "\n",
        "    question = \"Would you like to ask one more question (yes/no)?\"\n",
        "    print(question)\n",
        "\n",
        "    return State(messages = [AIMessage(question), HumanMessage(input())])"
      ],
      "metadata": {
        "id": "IgXIfVY4_RhD"
      },
      "execution_count": null,
      "outputs": []
    },
    {
      "cell_type": "markdown",
      "source": [
        "### Define the Routing Function:-"
      ],
      "metadata": {
        "id": "0QjsOchb_Uwi"
      }
    },
    {
      "cell_type": "code",
      "source": [
        "def routing_function(state: State) -> Literal[\"ask_question\", \"__end__\"]:\n",
        "\n",
        "    if state[\"messages\"][-1].content == \"yes\":\n",
        "        return \"ask_question\"\n",
        "    else:\n",
        "        return \"__end__\""
      ],
      "metadata": {
        "id": "nMBIGxTx_WZ7"
      },
      "execution_count": null,
      "outputs": []
    },
    {
      "cell_type": "markdown",
      "source": [
        "### Define the Graph:-"
      ],
      "metadata": {
        "id": "s5o5aUn9_cmK"
      }
    },
    {
      "cell_type": "code",
      "source": [
        "graph = StateGraph(State)"
      ],
      "metadata": {
        "id": "KByB7y6o_eGy"
      },
      "execution_count": null,
      "outputs": []
    },
    {
      "cell_type": "code",
      "source": [
        "graph.add_node(\"ask_question\", ask_question)\n",
        "graph.add_node(\"chatbot\", chatbot)\n",
        "graph.add_node(\"ask_another_question\", ask_another_question)\n",
        "\n",
        "graph.add_edge(START, \"ask_question\")\n",
        "graph.add_edge(\"ask_question\", \"chatbot\")\n",
        "graph.add_edge(\"chatbot\", \"ask_another_question\")\n",
        "graph.add_conditional_edges(source = \"ask_another_question\",\n",
        "                            path = routing_function)"
      ],
      "metadata": {
        "id": "ehqOgmjX_aQK"
      },
      "execution_count": null,
      "outputs": []
    },
    {
      "cell_type": "code",
      "source": [
        "graph_compiled = graph.compile()"
      ],
      "metadata": {
        "id": "sEED7OR1_lpc"
      },
      "execution_count": null,
      "outputs": []
    },
    {
      "cell_type": "code",
      "source": [
        "graph_compiled"
      ],
      "metadata": {
        "id": "RnoTHrke_stx"
      },
      "execution_count": null,
      "outputs": []
    },
    {
      "cell_type": "markdown",
      "source": [
        "### Test the Graph:-"
      ],
      "metadata": {
        "id": "IT7UqNgh_xvx"
      }
    },
    {
      "cell_type": "code",
      "source": [
        "graph_compiled.invoke(State(messages = []))"
      ],
      "metadata": {
        "id": "QRC4KB8d_zUS"
      },
      "execution_count": null,
      "outputs": []
    }
  ]
}