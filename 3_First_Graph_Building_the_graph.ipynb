{
  "nbformat": 4,
  "nbformat_minor": 0,
  "metadata": {
    "colab": {
      "private_outputs": true,
      "provenance": [],
      "authorship_tag": "ABX9TyMqvCDnHf44sJijmBIw+xW9",
      "include_colab_link": true
    },
    "kernelspec": {
      "name": "python3",
      "display_name": "Python 3"
    },
    "language_info": {
      "name": "python"
    }
  },
  "cells": [
    {
      "cell_type": "markdown",
      "metadata": {
        "id": "view-in-github",
        "colab_type": "text"
      },
      "source": [
        "<a href=\"https://colab.research.google.com/github/ARJUN108-verma/LangGraph/blob/main/3_First_Graph_Building_the_graph.ipynb\" target=\"_parent\"><img src=\"https://colab.research.google.com/assets/colab-badge.svg\" alt=\"Open In Colab\"/></a>"
      ]
    },
    {
      "cell_type": "markdown",
      "source": [
        "# First Graph: Building the graph:-"
      ],
      "metadata": {
        "id": "vcwLEbALYUNd"
      }
    },
    {
      "cell_type": "markdown",
      "source": [
        "Set an Openai API key as an environment variable:-"
      ],
      "metadata": {
        "id": "CfQ3c-66YhiU"
      }
    },
    {
      "cell_type": "code",
      "source": [
        "!pip install mypy_ipython"
      ],
      "metadata": {
        "id": "4GZ8f5D4ZEwV"
      },
      "execution_count": null,
      "outputs": []
    },
    {
      "cell_type": "code",
      "execution_count": null,
      "metadata": {
        "id": "asLfe2ghYGtw"
      },
      "outputs": [],
      "source": [
        "%load_ext dotenv\n",
        "%dotenv\n",
        "%load_ext mypy_ipython"
      ]
    },
    {
      "cell_type": "code",
      "source": [
        "!pip install langgraph"
      ],
      "metadata": {
        "id": "N9xFP_uPZmLs"
      },
      "execution_count": null,
      "outputs": []
    },
    {
      "cell_type": "markdown",
      "source": [
        "### Import Relevant Classes and Functions"
      ],
      "metadata": {
        "id": "8-BQ1UnETuy3"
      }
    },
    {
      "cell_type": "code",
      "source": [
        "from langgraph.graph import START, END , StateGraph"
      ],
      "metadata": {
        "id": "0jkAhMI4Y2My"
      },
      "execution_count": null,
      "outputs": []
    },
    {
      "cell_type": "code",
      "source": [
        "from typing_extensions import TypedDict"
      ],
      "metadata": {
        "id": "y_6BVtaTZk4n"
      },
      "execution_count": null,
      "outputs": []
    },
    {
      "cell_type": "code",
      "source": [
        "!pip install langchain_openai"
      ],
      "metadata": {
        "id": "AHT7IriSaFyV"
      },
      "execution_count": null,
      "outputs": []
    },
    {
      "cell_type": "code",
      "source": [
        "from langchain_openai.chat_models import ChatOpenAI"
      ],
      "metadata": {
        "id": "QN33_xzoZ0hc"
      },
      "execution_count": null,
      "outputs": []
    },
    {
      "cell_type": "code",
      "source": [
        "from langchain_core.messages import HumanMessage, BaseMessage"
      ],
      "metadata": {
        "id": "YgYoSdEDaDpP"
      },
      "execution_count": null,
      "outputs": []
    },
    {
      "cell_type": "code",
      "source": [
        "from langchain_core.runnables import Runnable"
      ],
      "metadata": {
        "id": "NdS0x2dWaYgs"
      },
      "execution_count": null,
      "outputs": []
    },
    {
      "cell_type": "code",
      "source": [
        "from collections.abc import Sequence"
      ],
      "metadata": {
        "id": "LUe61kEDam8S"
      },
      "execution_count": null,
      "outputs": []
    },
    {
      "cell_type": "markdown",
      "source": [
        "Defining the state:-"
      ],
      "metadata": {
        "id": "RGvWxTnST7d2"
      }
    },
    {
      "cell_type": "code",
      "source": [
        "class state(TypedDict):\n",
        "  messages: Sequence[BaseMessage]"
      ],
      "metadata": {
        "id": "DLUvDvYLavbA"
      },
      "execution_count": null,
      "outputs": []
    },
    {
      "cell_type": "code",
      "source": [
        "state = state(messages = [HumanMessage(\"Could you tell me a grook by Piet Hein?\")])"
      ],
      "metadata": {
        "id": "mYwYpG4GUXP9"
      },
      "execution_count": null,
      "outputs": []
    },
    {
      "cell_type": "code",
      "source": [
        "state[\"messages\"][0].pretty_print()"
      ],
      "metadata": {
        "id": "ZjwbxlehUwXX"
      },
      "execution_count": null,
      "outputs": []
    },
    {
      "cell_type": "markdown",
      "source": [
        "Define the node:-"
      ],
      "metadata": {
        "id": "Mhqd1eo7VumI"
      }
    },
    {
      "cell_type": "code",
      "source": [
        "chat = ChatOpenAI(api_key= \"Enter API key here\",\n",
        "                  model = \"gpt-4o\",\n",
        "                  seed = 365,\n",
        "                  temperature = 0,\n",
        "                  max_completion_tokens=100)"
      ],
      "metadata": {
        "id": "rgVkV8-SVmG7"
      },
      "execution_count": null,
      "outputs": []
    },
    {
      "cell_type": "code",
      "source": [
        "response = chat.invoke(state[\"messages\"])"
      ],
      "metadata": {
        "id": "Sn7gTBKqWKHy"
      },
      "execution_count": null,
      "outputs": []
    },
    {
      "cell_type": "code",
      "source": [
        "def chatbot(state: state) -> state:\n",
        "  print(f\"\\n-------> ENTERING chatbot:\")\n",
        "  response = chat.invoke(state[\"messages\"])\n",
        "  response.pretty_print()\n",
        "  return state(messages = [response])"
      ],
      "metadata": {
        "id": "Hal0r1uHWgzO"
      },
      "execution_count": null,
      "outputs": []
    },
    {
      "cell_type": "code",
      "source": [
        "chatbot(state)"
      ],
      "metadata": {
        "id": "lIjR_yEnXH6b"
      },
      "execution_count": null,
      "outputs": []
    },
    {
      "cell_type": "markdown",
      "source": [
        "Define the Graph:-"
      ],
      "metadata": {
        "id": "rc4Y-BtSeucl"
      }
    },
    {
      "cell_type": "code",
      "source": [
        "graph = StateGraph(state)"
      ],
      "metadata": {
        "id": "7mtwUPuNXzFw"
      },
      "execution_count": null,
      "outputs": []
    },
    {
      "cell_type": "code",
      "source": [
        "graph.add_node(\"chatbot\", chatbot)\n",
        "\n",
        "graph.add_edge(START, \"chatbot\")\n",
        "graph.add_edge(\"chatbot\", END)"
      ],
      "metadata": {
        "id": "ccuIQx4CfPL4"
      },
      "execution_count": null,
      "outputs": []
    },
    {
      "cell_type": "code",
      "source": [
        "graph_compiled = graph.compile()"
      ],
      "metadata": {
        "id": "n2nl5F1IfzVv"
      },
      "execution_count": null,
      "outputs": []
    },
    {
      "cell_type": "code",
      "source": [
        "isinstance(Graph, Runnable)"
      ],
      "metadata": {
        "id": "n5jxK7rbf_Wv"
      },
      "execution_count": null,
      "outputs": []
    },
    {
      "cell_type": "code",
      "source": [
        "graph_compiled"
      ],
      "metadata": {
        "id": "IIcNlWmZgIem"
      },
      "execution_count": null,
      "outputs": []
    },
    {
      "cell_type": "markdown",
      "source": [
        "Test the Graph:-"
      ],
      "metadata": {
        "id": "g7cUpvgJgNC1"
      }
    },
    {
      "cell_type": "code",
      "source": [
        "graph_compiled.invoek(state)"
      ],
      "metadata": {
        "id": "OTYd1U8KgMH3"
      },
      "execution_count": null,
      "outputs": []
    },
    {
      "cell_type": "code",
      "source": [
        "%mypy"
      ],
      "metadata": {
        "id": "ByRETeu7gZye"
      },
      "execution_count": null,
      "outputs": []
    },
    {
      "cell_type": "code",
      "source": [],
      "metadata": {
        "id": "xURpR6whgdj0"
      },
      "execution_count": null,
      "outputs": []
    }
  ]
}