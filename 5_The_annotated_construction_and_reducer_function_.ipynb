{
  "nbformat": 4,
  "nbformat_minor": 0,
  "metadata": {
    "colab": {
      "private_outputs": true,
      "provenance": [],
      "authorship_tag": "ABX9TyO2VXbxCvDHQ8PeYhSWqCyz",
      "include_colab_link": true
    },
    "kernelspec": {
      "name": "python3",
      "display_name": "Python 3"
    },
    "language_info": {
      "name": "python"
    }
  },
  "cells": [
    {
      "cell_type": "markdown",
      "metadata": {
        "id": "view-in-github",
        "colab_type": "text"
      },
      "source": [
        "<a href=\"https://colab.research.google.com/github/ARJUN108-verma/LangGraph/blob/main/5_The_annotated_construction_and_reducer_function_.ipynb\" target=\"_parent\"><img src=\"https://colab.research.google.com/assets/colab-badge.svg\" alt=\"Open In Colab\"/></a>"
      ]
    },
    {
      "cell_type": "markdown",
      "source": [
        "#The annotated Construction and reducer functions:-"
      ],
      "metadata": {
        "id": "5_rluRUY1Xkc"
      }
    },
    {
      "cell_type": "markdown",
      "source": [
        "set the api key as an environment variable:-"
      ],
      "metadata": {
        "id": "OxgCaFjS1x4z"
      }
    },
    {
      "cell_type": "code",
      "source": [
        "!pip install mypy_ipython"
      ],
      "metadata": {
        "id": "Z9IzPGmd2SZe"
      },
      "execution_count": null,
      "outputs": []
    },
    {
      "cell_type": "code",
      "execution_count": null,
      "metadata": {
        "id": "khjh1OJe04oH"
      },
      "outputs": [],
      "source": [
        "%load_ext dotenv\n",
        "%dotenv\n",
        "%load_ext mypy_ipython"
      ]
    },
    {
      "cell_type": "markdown",
      "source": [
        "Import relevant classes and function:-"
      ],
      "metadata": {
        "id": "rmab2WjE2jmE"
      }
    },
    {
      "cell_type": "code",
      "source": [
        "!pip install langgraph"
      ],
      "metadata": {
        "id": "VqMouTxe3ErE"
      },
      "execution_count": null,
      "outputs": []
    },
    {
      "cell_type": "code",
      "source": [
        "from langgraph.graph import START, END, StateGraph, add_messages"
      ],
      "metadata": {
        "id": "AWJ2DvtN2GDW"
      },
      "execution_count": null,
      "outputs": []
    },
    {
      "cell_type": "code",
      "source": [
        "from typing_extensions import TypedDict"
      ],
      "metadata": {
        "id": "auqf4kjp3DUH"
      },
      "execution_count": null,
      "outputs": []
    },
    {
      "cell_type": "code",
      "source": [
        "!pip install langchain_openai"
      ],
      "metadata": {
        "id": "jwB8GSEG3-PG"
      },
      "execution_count": null,
      "outputs": []
    },
    {
      "cell_type": "code",
      "source": [
        "from langchain_openai.chat_models import ChatOpenAI"
      ],
      "metadata": {
        "id": "FdxJHNmW3blJ"
      },
      "execution_count": null,
      "outputs": []
    },
    {
      "cell_type": "code",
      "source": [
        "from langchain_core.messages import AIMessage, HumanMessage, BaseMessage"
      ],
      "metadata": {
        "id": "0y0tJtPD363S"
      },
      "execution_count": null,
      "outputs": []
    },
    {
      "cell_type": "code",
      "source": [
        "from collections.abc import Sequence"
      ],
      "metadata": {
        "id": "b63fTqQg4RJt"
      },
      "execution_count": null,
      "outputs": []
    },
    {
      "cell_type": "code",
      "source": [
        "from typing import Literal, Annotated"
      ],
      "metadata": {
        "id": "tY4X1bbt4bYQ"
      },
      "execution_count": null,
      "outputs": []
    },
    {
      "cell_type": "markdown",
      "source": [
        "### Get Familiar with the add_messages Function:-"
      ],
      "metadata": {
        "id": "6UM1dYi54oXB"
      }
    },
    {
      "cell_type": "code",
      "source": [
        "my_list = add_messages([HumanMessage(\"Hi! I'm Oscar.\"),\n",
        "                        AIMessage(\"Hey, Oscar. How can I assist you?\")],\n",
        "                       [HumanMessage(\"Could you summarize today's news?\")])"
      ],
      "metadata": {
        "id": "dn_EKb4e4i_u"
      },
      "execution_count": null,
      "outputs": []
    },
    {
      "cell_type": "code",
      "source": [
        "my_list"
      ],
      "metadata": {
        "id": "Oyn3rzPA4uEN"
      },
      "execution_count": null,
      "outputs": []
    },
    {
      "cell_type": "markdown",
      "source": [
        "### Define the State:-"
      ],
      "metadata": {
        "id": "r1Beqg8Y40Ju"
      }
    },
    {
      "cell_type": "code",
      "source": [
        "class State(TypedDict):\n",
        "    messages: Annotated[Sequence[BaseMessage], add_messages]"
      ],
      "metadata": {
        "id": "I8t_mD5N4znR"
      },
      "execution_count": null,
      "outputs": []
    },
    {
      "cell_type": "markdown",
      "source": [
        "### Define the Nodes:-"
      ],
      "metadata": {
        "id": "Vrnb7Bv64-51"
      }
    },
    {
      "cell_type": "code",
      "source": [
        "chat = ChatOpenAI(model = \"gpt-4o\",\n",
        "                  seed = 365,\n",
        "                  temperature = 0,\n",
        "                  max_completion_tokens = 100)"
      ],
      "metadata": {
        "id": "euWpqrYs47TV"
      },
      "execution_count": null,
      "outputs": []
    },
    {
      "cell_type": "code",
      "source": [
        "def ask_question(state: State) -> State:\n",
        "\n",
        "    print(f\"\\n-------> ENTERING ask_question:\")\n",
        "\n",
        "    print(\"What is your question?\")\n",
        "\n",
        "    return State(messages = [HumanMessage(input())])"
      ],
      "metadata": {
        "id": "uLoyob5F5G5k"
      },
      "execution_count": null,
      "outputs": []
    },
    {
      "cell_type": "code",
      "source": [
        "def chatbot(state: State) -> State:\n",
        "\n",
        "    print(f\"\\n-------> ENTERING chatbot:\")\n",
        "\n",
        "    response = chat.invoke(state[\"messages\"])\n",
        "    response.pretty_print()\n",
        "\n",
        "    return State(messages = [response])"
      ],
      "metadata": {
        "id": "EU0EMum85MNv"
      },
      "execution_count": null,
      "outputs": []
    },
    {
      "cell_type": "code",
      "source": [
        "def ask_another_question(state: State) -> State:\n",
        "\n",
        "    print(f\"\\n-------> ENTERING ask_another_question:\")\n",
        "\n",
        "    print(\"Would you like to ask one more question (yes/no)?\")\n",
        "\n",
        "    return State(messages = [HumanMessage(input())])"
      ],
      "metadata": {
        "id": "9zrGUihZ5QU0"
      },
      "execution_count": null,
      "outputs": []
    },
    {
      "cell_type": "code",
      "source": [
        "def routing_function(state: State) -> Literal[\"ask_question\", \"__end__\"]:\n",
        "\n",
        "    if state[\"messages\"][0].content == \"yes\":\n",
        "        return \"ask_question\"\n",
        "    else:\n",
        "        return \"__end__\""
      ],
      "metadata": {
        "id": "REcw6t2Z5UZR"
      },
      "execution_count": null,
      "outputs": []
    },
    {
      "cell_type": "markdown",
      "source": [
        "### Define the Graph:-"
      ],
      "metadata": {
        "id": "vZJjiq3V5kKn"
      }
    },
    {
      "cell_type": "code",
      "source": [
        "graph = StateGraph(State)"
      ],
      "metadata": {
        "id": "EfCjMeTf5g6_"
      },
      "execution_count": null,
      "outputs": []
    },
    {
      "cell_type": "code",
      "source": [
        "graph.add_node(\"ask_question\", ask_question)\n",
        "graph.add_node(\"chatbot\", chatbot)\n",
        "graph.add_node(\"ask_another_question\", ask_another_question)\n",
        "\n",
        "graph.add_edge(START, \"ask_question\")\n",
        "graph.add_edge(\"ask_question\", \"chatbot\")\n",
        "graph.add_edge(\"chatbot\", \"ask_another_question\")\n",
        "graph.add_conditional_edges(source = \"ask_another_question\",\n",
        "                            path = routing_function)"
      ],
      "metadata": {
        "id": "sXrN6DsU5pv0"
      },
      "execution_count": null,
      "outputs": []
    },
    {
      "cell_type": "code",
      "source": [
        "graph_compiled = graph.compile()"
      ],
      "metadata": {
        "id": "GYUOr7Pi5tkT"
      },
      "execution_count": null,
      "outputs": []
    },
    {
      "cell_type": "code",
      "source": [
        "graph_compiled"
      ],
      "metadata": {
        "id": "UCxOABAP5zI-"
      },
      "execution_count": null,
      "outputs": []
    },
    {
      "cell_type": "markdown",
      "source": [
        "### Test the Graph"
      ],
      "metadata": {
        "id": "4lyc8ePB57z3"
      }
    },
    {
      "cell_type": "code",
      "source": [
        "graph_compiled.invoke(State(messages = []))"
      ],
      "metadata": {
        "id": "dM52OZBv53Nd"
      },
      "execution_count": null,
      "outputs": []
    },
    {
      "cell_type": "code",
      "source": [],
      "metadata": {
        "id": "Y0QPLir_6AQk"
      },
      "execution_count": null,
      "outputs": []
    }
  ]
}