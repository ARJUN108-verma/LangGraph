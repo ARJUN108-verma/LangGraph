{
  "nbformat": 4,
  "nbformat_minor": 0,
  "metadata": {
    "colab": {
      "private_outputs": true,
      "provenance": [],
      "authorship_tag": "ABX9TyOjLLbPa6XnJct8ZpD5kDPd",
      "include_colab_link": true
    },
    "kernelspec": {
      "name": "python3",
      "display_name": "Python 3"
    },
    "language_info": {
      "name": "python"
    }
  },
  "cells": [
    {
      "cell_type": "markdown",
      "metadata": {
        "id": "view-in-github",
        "colab_type": "text"
      },
      "source": [
        "<a href=\"https://colab.research.google.com/github/ARJUN108-verma/LangGraph/blob/main/13_Long_term_memory_with_SQLite.ipynb\" target=\"_parent\"><img src=\"https://colab.research.google.com/assets/colab-badge.svg\" alt=\"Open In Colab\"/></a>"
      ]
    },
    {
      "cell_type": "markdown",
      "source": [
        "#Long term memory with SQLite:-"
      ],
      "metadata": {
        "id": "9b05Bm7AvFe-"
      }
    },
    {
      "cell_type": "markdown",
      "source": [
        "Set the OpenAI API Key as an Environment Variable"
      ],
      "metadata": {
        "id": "ntcCKfHvvRRK"
      }
    },
    {
      "cell_type": "code",
      "source": [
        "!pip install mypy_ipython"
      ],
      "metadata": {
        "id": "WMb_-KT6wccZ"
      },
      "execution_count": null,
      "outputs": []
    },
    {
      "cell_type": "code",
      "execution_count": null,
      "metadata": {
        "id": "D9CdhXWzu63P"
      },
      "outputs": [],
      "source": [
        "%load_ext dotenv\n",
        "%dotenv\n",
        "%load_ext mypy_ipython"
      ]
    },
    {
      "cell_type": "markdown",
      "source": [
        "Import Relevant Classes and Functions"
      ],
      "metadata": {
        "id": "auIj8FLpvXMi"
      }
    },
    {
      "cell_type": "code",
      "source": [
        "!pip install mypy_ipython"
      ],
      "metadata": {
        "id": "dwnhdprzwnIV"
      },
      "execution_count": null,
      "outputs": []
    },
    {
      "cell_type": "code",
      "source": [
        "!pip install langgraph"
      ],
      "metadata": {
        "id": "pvCFZ3JpwtUY"
      },
      "execution_count": null,
      "outputs": []
    },
    {
      "cell_type": "code",
      "source": [
        "!pip install langchain_openai"
      ],
      "metadata": {
        "id": "r2bMmLl_w15V"
      },
      "execution_count": null,
      "outputs": []
    },
    {
      "cell_type": "code",
      "source": [
        "!pip install langgraph.checkpoint.sqlite"
      ],
      "metadata": {
        "id": "ulFRjlO3w9N0"
      },
      "execution_count": null,
      "outputs": []
    },
    {
      "cell_type": "code",
      "source": [
        "from langgraph.graph import START, END, StateGraph, MessagesState\n",
        "from langchain_openai.chat_models import ChatOpenAI\n",
        "from langchain_core.messages import HumanMessage, AIMessage, SystemMessage, BaseMessage, RemoveMessage\n",
        "from langgraph.checkpoint.memory import InMemorySaver\n",
        "import sqlite3\n",
        "from langgraph.checkpoint.sqlite import SqliteSaver"
      ],
      "metadata": {
        "id": "FLXpLv9Jvb6M"
      },
      "execution_count": null,
      "outputs": []
    },
    {
      "cell_type": "markdown",
      "source": [
        "Define the Nodes"
      ],
      "metadata": {
        "id": "OVNtJzNvvjpz"
      }
    },
    {
      "cell_type": "code",
      "source": [
        "class State(MessagesState):\n",
        "    summary: str"
      ],
      "metadata": {
        "id": "m6HPlWhNvmIi"
      },
      "execution_count": null,
      "outputs": []
    },
    {
      "cell_type": "code",
      "source": [
        "chat = ChatOpenAI(api_key=\"Enter API KEY here\",\n",
        "                  model = \"gpt-4o\",\n",
        "                  seed = 365,\n",
        "                  temperature = 0,\n",
        "                  max_completion_tokens = 100)"
      ],
      "metadata": {
        "id": "_i67eOARvr2T"
      },
      "execution_count": null,
      "outputs": []
    },
    {
      "cell_type": "code",
      "source": [
        "def ask_question(state: State) -> State:\n",
        "\n",
        "    print(f\"\\n-------> ENTERING ask_question:\")\n",
        "\n",
        "    question = \"What is your question?\"\n",
        "    print(question)\n",
        "\n",
        "    return State(messages = [AIMessage(question), HumanMessage(input())])"
      ],
      "metadata": {
        "id": "apNvUVrpvuzL"
      },
      "execution_count": null,
      "outputs": []
    },
    {
      "cell_type": "code",
      "source": [
        "def chatbot(state: State) -> State:\n",
        "\n",
        "    print(f\"\\n-------> ENTERING chatbot:\")\n",
        "\n",
        "    system_message = f'''\n",
        "    Here's a quick summary of what's been discussed so far:\n",
        "    {state.get(\"summary\", \"\")}\n",
        "\n",
        "    Keep this in mind as you answer the next question.\n",
        "    '''\n",
        "\n",
        "    response = chat.invoke([SystemMessage(system_message)] + state[\"messages\"])\n",
        "    response.pretty_print()\n",
        "\n",
        "    return State(messages = [response])"
      ],
      "metadata": {
        "id": "O4vAiKPuvySz"
      },
      "execution_count": null,
      "outputs": []
    },
    {
      "cell_type": "code",
      "source": [
        "def summarize_messages(state: State) -> State:\n",
        "    print(f\"\\n-------> ENTERING summarize_messages:\")\n",
        "\n",
        "    new_conversation = \"\"\n",
        "    for i in state[\"messages\"]:\n",
        "        new_conversation += f\"{i.type}: {i.content}\\n\\n\"\n",
        "\n",
        "    summary_instructions = f'''\n",
        "Update the ongoing summary by incorporating the new lines of conversation below.\n",
        "Build upon the previous summary rather than repeating it,\n",
        "so that the result reflects the most recent context and developments.\n",
        "Respond only with the summary.\n",
        "\n",
        "Previous Summary:\n",
        "{state.get(\"summary\", \"\")}\n",
        "\n",
        "New Conversation:\n",
        "{new_conversation}\n",
        "'''\n",
        "\n",
        "    print(summary_instructions)\n",
        "\n",
        "    summary = chat.invoke([HumanMessage(summary_instructions)])\n",
        "\n",
        "    remove_messages = [RemoveMessage(id = i.id) for i in state[\"messages\"][:]]\n",
        "\n",
        "    return State(messages = remove_messages, summary = summary.content)"
      ],
      "metadata": {
        "id": "wZFrxmAPv2fU"
      },
      "execution_count": null,
      "outputs": []
    },
    {
      "cell_type": "markdown",
      "source": [
        "Define the Graph"
      ],
      "metadata": {
        "id": "fYiKR6Bov5kH"
      }
    },
    {
      "cell_type": "code",
      "source": [
        "graph = StateGraph(State)"
      ],
      "metadata": {
        "id": "dLJUQ8VIv9X0"
      },
      "execution_count": null,
      "outputs": []
    },
    {
      "cell_type": "code",
      "source": [
        "graph.add_node(\"ask_question\", ask_question)\n",
        "graph.add_node(\"chatbot\", chatbot)\n",
        "graph.add_node(\"summarize_messages\", summarize_messages)\n",
        "\n",
        "graph.add_edge(START, \"ask_question\")\n",
        "graph.add_edge(\"ask_question\", \"chatbot\")\n",
        "graph.add_edge(\"chatbot\", \"summarize_messages\")\n",
        "graph.add_edge(\"summarize_messages\", END)"
      ],
      "metadata": {
        "id": "3O9YzRJOwAqN"
      },
      "execution_count": null,
      "outputs": []
    },
    {
      "cell_type": "code",
      "source": [
        "db_path = \"C:/Users/Hristina/Desktop/LangGraph_DB/langgraph.db\"\n",
        "con = sqlite3.connect(database = db_path, check_same_thread = False)"
      ],
      "metadata": {
        "id": "g0cRGiTLwDlz"
      },
      "execution_count": null,
      "outputs": []
    },
    {
      "cell_type": "code",
      "source": [
        "checkpointer = SqliteSaver(con)"
      ],
      "metadata": {
        "id": "I4GZeGw9wGcA"
      },
      "execution_count": null,
      "outputs": []
    },
    {
      "cell_type": "code",
      "source": [
        "graph_compiled = graph.compile(checkpointer)"
      ],
      "metadata": {
        "id": "UuXHyLIUwIws"
      },
      "execution_count": null,
      "outputs": []
    },
    {
      "cell_type": "code",
      "source": [
        "graph_compiled"
      ],
      "metadata": {
        "id": "Mrqc2ZYDwLK8"
      },
      "execution_count": null,
      "outputs": []
    },
    {
      "cell_type": "code",
      "source": [
        "config1 = {\"configurable\": {\"thread_id\": \"1\"}}"
      ],
      "metadata": {
        "id": "xxL3stkfwNu1"
      },
      "execution_count": null,
      "outputs": []
    },
    {
      "cell_type": "code",
      "source": [
        "graph_compiled.invoke(State(), config1)"
      ],
      "metadata": {
        "id": "cWYm7Nj8wRMv"
      },
      "execution_count": null,
      "outputs": []
    }
  ]
}