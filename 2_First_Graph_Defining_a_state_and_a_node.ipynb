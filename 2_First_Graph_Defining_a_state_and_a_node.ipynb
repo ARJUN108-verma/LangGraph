{
  "nbformat": 4,
  "nbformat_minor": 0,
  "metadata": {
    "colab": {
      "private_outputs": true,
      "provenance": [],
      "authorship_tag": "ABX9TyObabME+R3e1VnjipFxpjDP",
      "include_colab_link": true
    },
    "kernelspec": {
      "name": "python3",
      "display_name": "Python 3"
    },
    "language_info": {
      "name": "python"
    }
  },
  "cells": [
    {
      "cell_type": "markdown",
      "metadata": {
        "id": "view-in-github",
        "colab_type": "text"
      },
      "source": [
        "<a href=\"https://colab.research.google.com/github/ARJUN108-verma/LangGraph/blob/main/2_First_Graph_Defining_a_state_and_a_node.ipynb\" target=\"_parent\"><img src=\"https://colab.research.google.com/assets/colab-badge.svg\" alt=\"Open In Colab\"/></a>"
      ]
    },
    {
      "cell_type": "markdown",
      "source": [
        "# First Graph: Defining a state and a node:-"
      ],
      "metadata": {
        "id": "vcwLEbALYUNd"
      }
    },
    {
      "cell_type": "markdown",
      "source": [
        "Set an Openai API key as an environment variable:-"
      ],
      "metadata": {
        "id": "CfQ3c-66YhiU"
      }
    },
    {
      "cell_type": "code",
      "source": [
        "!pip install mypy_ipython"
      ],
      "metadata": {
        "id": "4GZ8f5D4ZEwV"
      },
      "execution_count": null,
      "outputs": []
    },
    {
      "cell_type": "code",
      "execution_count": null,
      "metadata": {
        "id": "asLfe2ghYGtw"
      },
      "outputs": [],
      "source": [
        "%load_ext dotenv\n",
        "%dotenv\n",
        "%load_ext mypy_ipython"
      ]
    },
    {
      "cell_type": "code",
      "source": [
        "!pip install langgraph"
      ],
      "metadata": {
        "id": "N9xFP_uPZmLs"
      },
      "execution_count": null,
      "outputs": []
    },
    {
      "cell_type": "markdown",
      "source": [
        "### Import Relevant Classes and Functions"
      ],
      "metadata": {
        "id": "8-BQ1UnETuy3"
      }
    },
    {
      "cell_type": "code",
      "source": [
        "from langgraph.graph import START, END , StateGraph"
      ],
      "metadata": {
        "id": "0jkAhMI4Y2My"
      },
      "execution_count": null,
      "outputs": []
    },
    {
      "cell_type": "code",
      "source": [
        "from typing_extensions import TypedDict"
      ],
      "metadata": {
        "id": "y_6BVtaTZk4n"
      },
      "execution_count": null,
      "outputs": []
    },
    {
      "cell_type": "code",
      "source": [
        "!pip install langchain_openai"
      ],
      "metadata": {
        "id": "AHT7IriSaFyV"
      },
      "execution_count": null,
      "outputs": []
    },
    {
      "cell_type": "code",
      "source": [
        "from langchain_openai.chat_models import ChatOpenAI"
      ],
      "metadata": {
        "id": "QN33_xzoZ0hc"
      },
      "execution_count": null,
      "outputs": []
    },
    {
      "cell_type": "code",
      "source": [
        "from langchain_core.messages import HumanMessage, BaseMessage"
      ],
      "metadata": {
        "id": "YgYoSdEDaDpP"
      },
      "execution_count": null,
      "outputs": []
    },
    {
      "cell_type": "code",
      "source": [
        "from langchain_core.runnables import Runnable"
      ],
      "metadata": {
        "id": "NdS0x2dWaYgs"
      },
      "execution_count": null,
      "outputs": []
    },
    {
      "cell_type": "code",
      "source": [
        "from collections.abc import Sequence"
      ],
      "metadata": {
        "id": "LUe61kEDam8S"
      },
      "execution_count": null,
      "outputs": []
    },
    {
      "cell_type": "markdown",
      "source": [
        "Defining the state:-"
      ],
      "metadata": {
        "id": "RGvWxTnST7d2"
      }
    },
    {
      "cell_type": "code",
      "source": [
        "class state(TypedDict):\n",
        "  messages: Sequence[BaseMessage]"
      ],
      "metadata": {
        "id": "DLUvDvYLavbA"
      },
      "execution_count": null,
      "outputs": []
    },
    {
      "cell_type": "code",
      "source": [
        "state = state(messages = [HumanMessage(\"Could you tell me a grook by Piet Hein?\")])"
      ],
      "metadata": {
        "id": "mYwYpG4GUXP9"
      },
      "execution_count": null,
      "outputs": []
    },
    {
      "cell_type": "code",
      "source": [
        "state[\"messages\"][0].pretty_print()"
      ],
      "metadata": {
        "id": "ZjwbxlehUwXX"
      },
      "execution_count": null,
      "outputs": []
    },
    {
      "cell_type": "markdown",
      "source": [
        "Define the node:-"
      ],
      "metadata": {
        "id": "Mhqd1eo7VumI"
      }
    },
    {
      "cell_type": "code",
      "source": [
        "chat = ChatOpenAI(api_key= \"Enter API key here\",\n",
        "                  model = \"gpt-4o\",\n",
        "                  seed = 365,\n",
        "                  temperature = 0,\n",
        "                  max_completion_tokens=100)"
      ],
      "metadata": {
        "id": "rgVkV8-SVmG7"
      },
      "execution_count": null,
      "outputs": []
    },
    {
      "cell_type": "code",
      "source": [
        "response = chat.invoke(state[\"messages\"])"
      ],
      "metadata": {
        "id": "Sn7gTBKqWKHy"
      },
      "execution_count": null,
      "outputs": []
    },
    {
      "cell_type": "code",
      "source": [
        "def chatbot(state: state) -> state:\n",
        "  print(f\"\\n-------> ENTERING chatbot:\")\n",
        "  response = chat.invoke(state[\"messages\"])\n",
        "  response.pretty_print()\n",
        "  return state(messages = [response])"
      ],
      "metadata": {
        "id": "Hal0r1uHWgzO"
      },
      "execution_count": null,
      "outputs": []
    },
    {
      "cell_type": "code",
      "source": [
        "chatbot(state)"
      ],
      "metadata": {
        "id": "lIjR_yEnXH6b"
      },
      "execution_count": null,
      "outputs": []
    },
    {
      "cell_type": "code",
      "source": [],
      "metadata": {
        "id": "7mtwUPuNXzFw"
      },
      "execution_count": null,
      "outputs": []
    }
  ]
}