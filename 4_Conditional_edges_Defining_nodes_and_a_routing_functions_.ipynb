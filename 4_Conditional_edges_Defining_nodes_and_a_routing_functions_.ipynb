{
  "nbformat": 4,
  "nbformat_minor": 0,
  "metadata": {
    "colab": {
      "private_outputs": true,
      "provenance": [],
      "authorship_tag": "ABX9TyObFtiadjp34/u8bSo1bv3d",
      "include_colab_link": true
    },
    "kernelspec": {
      "name": "python3",
      "display_name": "Python 3"
    },
    "language_info": {
      "name": "python"
    }
  },
  "cells": [
    {
      "cell_type": "markdown",
      "metadata": {
        "id": "view-in-github",
        "colab_type": "text"
      },
      "source": [
        "<a href=\"https://colab.research.google.com/github/ARJUN108-verma/LangGraph/blob/main/4_Conditional_edges_Defining_nodes_and_a_routing_functions_.ipynb\" target=\"_parent\"><img src=\"https://colab.research.google.com/assets/colab-badge.svg\" alt=\"Open In Colab\"/></a>"
      ]
    },
    {
      "cell_type": "markdown",
      "source": [
        "# Conditional edges: Defining nodes and a routing function :-"
      ],
      "metadata": {
        "id": "vcwLEbALYUNd"
      }
    },
    {
      "cell_type": "markdown",
      "source": [
        "Set an Openai API key as an environment variable:-"
      ],
      "metadata": {
        "id": "CfQ3c-66YhiU"
      }
    },
    {
      "cell_type": "code",
      "source": [
        "!pip install mypy_ipython"
      ],
      "metadata": {
        "id": "4GZ8f5D4ZEwV"
      },
      "execution_count": null,
      "outputs": []
    },
    {
      "cell_type": "code",
      "execution_count": null,
      "metadata": {
        "id": "asLfe2ghYGtw"
      },
      "outputs": [],
      "source": [
        "%load_ext dotenv\n",
        "%dotenv\n",
        "%load_ext mypy_ipython"
      ]
    },
    {
      "cell_type": "code",
      "source": [
        "!pip install langgraph"
      ],
      "metadata": {
        "id": "N9xFP_uPZmLs"
      },
      "execution_count": null,
      "outputs": []
    },
    {
      "cell_type": "markdown",
      "source": [
        "### Import Relevant Classes and Functions"
      ],
      "metadata": {
        "id": "8-BQ1UnETuy3"
      }
    },
    {
      "cell_type": "code",
      "source": [
        "from langgraph.graph import START, END , StateGraph"
      ],
      "metadata": {
        "id": "0jkAhMI4Y2My"
      },
      "execution_count": null,
      "outputs": []
    },
    {
      "cell_type": "code",
      "source": [
        "from typing_extensions import TypedDict"
      ],
      "metadata": {
        "id": "y_6BVtaTZk4n"
      },
      "execution_count": null,
      "outputs": []
    },
    {
      "cell_type": "code",
      "source": [
        "!pip install langchain_openai"
      ],
      "metadata": {
        "id": "AHT7IriSaFyV"
      },
      "execution_count": null,
      "outputs": []
    },
    {
      "cell_type": "code",
      "source": [
        "from langchain_openai.chat_models import ChatOpenAI"
      ],
      "metadata": {
        "id": "QN33_xzoZ0hc"
      },
      "execution_count": null,
      "outputs": []
    },
    {
      "cell_type": "code",
      "source": [
        "from langchain_core.messages import HumanMessage, BaseMessage"
      ],
      "metadata": {
        "id": "YgYoSdEDaDpP"
      },
      "execution_count": null,
      "outputs": []
    },
    {
      "cell_type": "code",
      "source": [
        "from langchain_core.runnables import Runnable"
      ],
      "metadata": {
        "id": "NdS0x2dWaYgs"
      },
      "execution_count": null,
      "outputs": []
    },
    {
      "cell_type": "code",
      "source": [
        "from collections.abc import Sequence"
      ],
      "metadata": {
        "id": "LUe61kEDam8S"
      },
      "execution_count": null,
      "outputs": []
    },
    {
      "cell_type": "code",
      "source": [
        "from typing import Literal"
      ],
      "metadata": {
        "id": "8rN2XGfrqMYd"
      },
      "execution_count": null,
      "outputs": []
    },
    {
      "cell_type": "markdown",
      "source": [
        "Defining the state:-"
      ],
      "metadata": {
        "id": "RGvWxTnST7d2"
      }
    },
    {
      "cell_type": "code",
      "source": [
        "class state(TypedDict):\n",
        "  messages: Sequence[BaseMessage]"
      ],
      "metadata": {
        "id": "DLUvDvYLavbA"
      },
      "execution_count": null,
      "outputs": []
    },
    {
      "cell_type": "markdown",
      "source": [
        "Define nodes:-"
      ],
      "metadata": {
        "id": "PhwlNqg3qchO"
      }
    },
    {
      "cell_type": "code",
      "source": [
        "chat = ChatOpenAI(model = \"gpt-4o\",\n",
        "                  seed = 365,\n",
        "                  temperature = 0,\n",
        "                  max_completion_tokens = 100)"
      ],
      "metadata": {
        "id": "bb6OMoVkqfkM"
      },
      "execution_count": null,
      "outputs": []
    },
    {
      "cell_type": "code",
      "source": [
        "def ask_question(state: State) -> State:\n",
        "\n",
        "    print(f\"\\n-------> ENTERING ask_question:\")\n",
        "\n",
        "    print(\"What is your question?\")\n",
        "\n",
        "    return State(messages = [HumanMessage(input())])"
      ],
      "metadata": {
        "id": "7t3vltmQqisd"
      },
      "execution_count": null,
      "outputs": []
    },
    {
      "cell_type": "code",
      "source": [
        "ask_question(State(messages = []))"
      ],
      "metadata": {
        "id": "FBi3qtrLqnDQ"
      },
      "execution_count": null,
      "outputs": []
    },
    {
      "cell_type": "code",
      "source": [
        "def chatbot(state: State) -> State:\n",
        "\n",
        "    print(f\"\\n-------> ENTERING chatbot:\")\n",
        "\n",
        "    response = chat.invoke(state[\"messages\"])\n",
        "    response.pretty_print()\n",
        "\n",
        "    return State(messages = [response])"
      ],
      "metadata": {
        "id": "8dGcti35q2Cd"
      },
      "execution_count": null,
      "outputs": []
    },
    {
      "cell_type": "code",
      "source": [
        "def ask_another_question(state: State) -> State:\n",
        "\n",
        "    print(f\"\\n-------> ENTERING ask_another_question:\")\n",
        "\n",
        "    print(\"Would you like to ask one more question (yes/no)?\")\n",
        "\n",
        "    return State(messages = [HumanMessage(input())])"
      ],
      "metadata": {
        "id": "UlW8LFSoq6TG"
      },
      "execution_count": null,
      "outputs": []
    },
    {
      "cell_type": "code",
      "source": [
        "ask_another_question(State(messages = []))"
      ],
      "metadata": {
        "id": "BRzF8Azpq-a1"
      },
      "execution_count": null,
      "outputs": []
    },
    {
      "cell_type": "markdown",
      "source": [
        "Define the rounting fucntion:-"
      ],
      "metadata": {
        "id": "nHw8pv6-rM0b"
      }
    },
    {
      "cell_type": "code",
      "source": [
        "def routing_function(state: State) -> Literal[\"ask_question\", \"__end__\"]:\n",
        "\n",
        "    if state[\"messages\"][0].content == \"yes\":\n",
        "        return \"ask_question\"\n",
        "    else:\n",
        "        return \"__end__\""
      ],
      "metadata": {
        "id": "3zO7VQiMrHC0"
      },
      "execution_count": null,
      "outputs": []
    },
    {
      "cell_type": "markdown",
      "source": [
        "Define the Graph:-"
      ],
      "metadata": {
        "id": "gpjIKYC1rcsO"
      }
    },
    {
      "cell_type": "code",
      "source": [
        "graph = StateGraph(State)"
      ],
      "metadata": {
        "id": "ftiUdmOerUaL"
      },
      "execution_count": null,
      "outputs": []
    },
    {
      "cell_type": "code",
      "source": [
        "graph.add_node(\"ask_question\", ask_question)\n",
        "graph.add_node(\"chatbot\", chatbot)\n",
        "graph.add_node(\"ask_another_question\", ask_another_question)\n",
        "\n",
        "graph.add_edge(START, \"ask_question\")\n",
        "graph.add_edge(\"ask_question\", \"chatbot\")\n",
        "graph.add_edge(\"chatbot\", \"ask_another_question\")\n",
        "graph.add_conditional_edges(source = \"ask_another_question\",\n",
        "                            path = routing_function)"
      ],
      "metadata": {
        "id": "mfVKfZuxrkAx"
      },
      "execution_count": null,
      "outputs": []
    },
    {
      "cell_type": "code",
      "source": [
        "graph_compiled = graph.compile()"
      ],
      "metadata": {
        "id": "IUIpNX8CrpUa"
      },
      "execution_count": null,
      "outputs": []
    },
    {
      "cell_type": "code",
      "source": [
        "graph_compiled"
      ],
      "metadata": {
        "id": "iJENEKfIrtTB"
      },
      "execution_count": null,
      "outputs": []
    },
    {
      "cell_type": "code",
      "source": [
        "print(graph_compiled.get_graph().draw_ascii())"
      ],
      "metadata": {
        "id": "anx6DFPwrxKa"
      },
      "execution_count": null,
      "outputs": []
    },
    {
      "cell_type": "markdown",
      "source": [
        "Test the Graph:-"
      ],
      "metadata": {
        "id": "Nm9GKchmr3-2"
      }
    },
    {
      "cell_type": "code",
      "source": [
        "graph_compiled.invoke(State(messages = []))"
      ],
      "metadata": {
        "id": "XL8EW_-pr004"
      },
      "execution_count": null,
      "outputs": []
    },
    {
      "cell_type": "code",
      "source": [
        "%mypy"
      ],
      "metadata": {
        "id": "LtEPYQxpr_OY"
      },
      "execution_count": null,
      "outputs": []
    },
    {
      "cell_type": "code",
      "source": [],
      "metadata": {
        "id": "yOffGZSxsBpa"
      },
      "execution_count": null,
      "outputs": []
    }
  ]
}